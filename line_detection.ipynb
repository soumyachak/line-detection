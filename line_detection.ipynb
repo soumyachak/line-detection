{
 "cells": [
  {
   "cell_type": "code",
   "execution_count": 18,
   "metadata": {},
   "outputs": [],
   "source": [
    "import numpy as np\n",
    "import cv2\n",
    "import matplotlib.pyplot as plt"
   ]
  },
  {
   "cell_type": "code",
   "execution_count": 19,
   "metadata": {},
   "outputs": [
    {
     "data": {
      "text/plain": [
       "<matplotlib.image.AxesImage at 0x249fa98f340>"
      ]
     },
     "execution_count": 19,
     "metadata": {},
     "output_type": "execute_result"
    },
    {
     "data": {
      "image/png": "[encoded data removed]",
      "text/plain": [
       "<Figure size 432x288 with 1 Axes>"
      ]
     },
     "metadata": {
      "needs_background": "light"
     },
     "output_type": "display_data"
    }
   ],
   "source": [
    "image = np.eye(150)\n",
    "plt.imshow(image)"
   ]
  },
  {
   "cell_type": "code",
   "execution_count": 20,
   "metadata": {},
   "outputs": [],
   "source": [
    "Ny = image.shape[0]\n",
    "Nx = image.shape[1]\n",
    "\n",
    "Maxdist = int(np.round(np.sqrt(Nx**2 + Ny ** 2)))\n",
    "thetas = np.deg2rad(np.arange(-90, 90))\n",
    "rs = np.linspace(-Maxdist, Maxdist, 2*Maxdist)\n",
    " \n",
    "accumulator = np.zeros((2 * Maxdist, len(thetas)))\n",
    "  \n",
    "for y in range(Ny):\n",
    "    for x in range(Nx):\n",
    "        if image[y,x] > 0:\n",
    "              for k in range(len(thetas)):\n",
    "                r = x*np.cos(thetas[k]) + y * np.sin(thetas[k])\n",
    "                accumulator[int(r) + Maxdist,k] += 1"
   ]
  },
  {
   "cell_type": "code",
   "execution_count": 21,
   "metadata": {},
   "outputs": [
    {
     "name": "stdout",
     "output_type": "stream",
     "text": [
      "rho=0, theta=-45\n"
     ]
    }
   ],
   "source": [
    "idx = np.argmax(accumulator)\n",
    "rho = int(rs[int(idx / accumulator.shape[1])])\n",
    "theta = thetas[int(idx % accumulator.shape[1])]\n",
    "print(\"rho={0:.0f}, theta={1:.0f}\".format(rho, np.rad2deg(theta)))"
   ]
  }
 ],
 "metadata": {
  "interpreter": {
   "hash": "b3ba2566441a7c06988d0923437866b63cedc61552a5af99d1f4fb67d367b25f"
  },
  "kernelspec": {
   "display_name": "Python 3.8.8 64-bit ('base': conda)",
   "language": "python",
   "name": "python3"
  },
  "language_info": {
   "codemirror_mode": {
    "name": "ipython",
    "version": 3
   },
   "file_extension": ".py",
   "mimetype": "text/x-python",
   "name": "python",
   "nbconvert_exporter": "python",
   "pygments_lexer": "ipython3",
   "version": "3.8.8"
  },
  "orig_nbformat": 4
 },
 "nbformat": 4,
 "nbformat_minor": 2
}
